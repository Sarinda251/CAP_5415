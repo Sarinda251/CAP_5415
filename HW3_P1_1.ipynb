{
  "nbformat": 4,
  "nbformat_minor": 0,
  "metadata": {
    "colab": {
      "name": "HW3_P1_1.ipynb",
      "provenance": [],
      "authorship_tag": "ABX9TyMT26itNscmfR8PL/Ex7CAy",
      "include_colab_link": true
    },
    "kernelspec": {
      "name": "python3",
      "display_name": "Python 3"
    }
  },
  "cells": [
    {
      "cell_type": "markdown",
      "metadata": {
        "id": "view-in-github",
        "colab_type": "text"
      },
      "source": [
        "<a href=\"https://colab.research.google.com/github/Sarinda251/CAP_5415/blob/main/HW3_P1_1.ipynb\" target=\"_parent\"><img src=\"https://colab.research.google.com/assets/colab-badge.svg\" alt=\"Open In Colab\"/></a>"
      ]
    },
    {
      "cell_type": "code",
      "metadata": {
        "id": "-6a805ArMtZ9"
      },
      "source": [
        "import matplotlib.pyplot as plt\n",
        "from keras.datasets import cifar10\n",
        "from keras.utils import to_categorical\n",
        "from keras.models import Sequential\n",
        "from keras.layers import Conv2D\n",
        "from keras.layers import MaxPooling2D\n",
        "from keras.layers import Dense\n",
        "from keras.layers import Flatten\n",
        "from keras.optimizers import SGD"
      ],
      "execution_count": 6,
      "outputs": []
    },
    {
      "cell_type": "code",
      "metadata": {
        "id": "_qwSCJYpMyMF"
      },
      "source": [
        "# load dataset\n",
        "(trainX, trainY), (testX, testY) = cifar10.load_data()\n",
        "# one hot encode target values\n",
        "trainY = to_categorical(trainY)\n",
        "testY = to_categorical(testY)"
      ],
      "execution_count": 7,
      "outputs": []
    },
    {
      "cell_type": "code",
      "metadata": {
        "id": "ZwyeCOdLMzRa"
      },
      "source": [
        "# scale pixels\n",
        "# convert from integers to floats\n",
        "train_norm = trainX.astype('float32')\n",
        "test_norm = testX.astype('float32')\n",
        "# normalize to range 0-1\n",
        "trainX = train_norm / 255.0\n",
        "testX = test_norm / 255.0\n",
        "# return normalized images"
      ],
      "execution_count": 8,
      "outputs": []
    },
    {
      "cell_type": "code",
      "metadata": {
        "id": "_hGRADMJM3T0"
      },
      "source": [
        "# create model\n",
        "model2 = Sequential()\n",
        "model2.add(Conv2D(32, (3, 3), activation='relu', kernel_initializer='he_uniform', padding='same', input_shape=(32, 32, 3)))\n",
        "model2.add(Conv2D(32, (3, 3), activation='relu', kernel_initializer='he_uniform', padding='same'))\n",
        "model2.add(MaxPooling2D((2, 2)))\n",
        "model2.add(Conv2D(64, (3, 3), activation='relu', kernel_initializer='he_uniform', padding='same'))\n",
        "model2.add(MaxPooling2D((2, 2)))\n",
        "model2.add(Flatten())\n",
        "model2.add(Dense(128, activation='relu', kernel_initializer='he_uniform'))\n",
        "model2.add(Dense(10, activation='softmax'))\n",
        "# compile model\n",
        "opt = SGD(lr=0.001, momentum=0.9)\n",
        "model2.compile(optimizer=opt, loss='categorical_crossentropy', metrics=['accuracy'])"
      ],
      "execution_count": 9,
      "outputs": []
    },
    {
      "cell_type": "code",
      "metadata": {
        "colab": {
          "base_uri": "https://localhost:8080/"
        },
        "id": "G5nF6Ra6M4nA",
        "outputId": "c144e396-5506-4167-9ffb-23362846da98"
      },
      "source": [
        "# fit model\n",
        "history = model2.fit(trainX, trainY, epochs=30, batch_size=64, validation_data=(testX, testY))\n",
        "# evaluate model\n",
        "_, acc = model2.evaluate(testX, testY, verbose=0)\n",
        "print('> %.3f' % (acc * 100.0))"
      ],
      "execution_count": 10,
      "outputs": [
        {
          "output_type": "stream",
          "text": [
            "Epoch 1/30\n",
            "782/782 [==============================] - 175s 224ms/step - loss: 1.8221 - accuracy: 0.3497 - val_loss: 1.5483 - val_accuracy: 0.4512\n",
            "Epoch 2/30\n",
            "782/782 [==============================] - 178s 227ms/step - loss: 1.4846 - accuracy: 0.4755 - val_loss: 1.3921 - val_accuracy: 0.4960\n",
            "Epoch 3/30\n",
            "782/782 [==============================] - 181s 232ms/step - loss: 1.3332 - accuracy: 0.5287 - val_loss: 1.2866 - val_accuracy: 0.5387\n",
            "Epoch 4/30\n",
            "782/782 [==============================] - 176s 225ms/step - loss: 1.2043 - accuracy: 0.5752 - val_loss: 1.2055 - val_accuracy: 0.5766\n",
            "Epoch 5/30\n",
            "782/782 [==============================] - 176s 226ms/step - loss: 1.1026 - accuracy: 0.6137 - val_loss: 1.1000 - val_accuracy: 0.6134\n",
            "Epoch 6/30\n",
            "782/782 [==============================] - 178s 228ms/step - loss: 1.0215 - accuracy: 0.6419 - val_loss: 1.0616 - val_accuracy: 0.6247\n",
            "Epoch 7/30\n",
            "782/782 [==============================] - 175s 224ms/step - loss: 0.9625 - accuracy: 0.6644 - val_loss: 1.0251 - val_accuracy: 0.6386\n",
            "Epoch 8/30\n",
            "782/782 [==============================] - 176s 225ms/step - loss: 0.9040 - accuracy: 0.6867 - val_loss: 0.9899 - val_accuracy: 0.6571\n",
            "Epoch 9/30\n",
            "782/782 [==============================] - 177s 226ms/step - loss: 0.8575 - accuracy: 0.7032 - val_loss: 0.9877 - val_accuracy: 0.6551\n",
            "Epoch 10/30\n",
            "782/782 [==============================] - 177s 227ms/step - loss: 0.8122 - accuracy: 0.7200 - val_loss: 0.9416 - val_accuracy: 0.6756\n",
            "Epoch 11/30\n",
            "782/782 [==============================] - 179s 229ms/step - loss: 0.7733 - accuracy: 0.7337 - val_loss: 0.9745 - val_accuracy: 0.6592\n",
            "Epoch 12/30\n",
            "782/782 [==============================] - 177s 226ms/step - loss: 0.7356 - accuracy: 0.7463 - val_loss: 0.9007 - val_accuracy: 0.6904\n",
            "Epoch 13/30\n",
            "782/782 [==============================] - 177s 227ms/step - loss: 0.6915 - accuracy: 0.7607 - val_loss: 0.9063 - val_accuracy: 0.6894\n",
            "Epoch 14/30\n",
            "782/782 [==============================] - 180s 230ms/step - loss: 0.6557 - accuracy: 0.7734 - val_loss: 0.9458 - val_accuracy: 0.6814\n",
            "Epoch 15/30\n",
            "782/782 [==============================] - 180s 230ms/step - loss: 0.6140 - accuracy: 0.7904 - val_loss: 0.8856 - val_accuracy: 0.7014\n",
            "Epoch 16/30\n",
            "782/782 [==============================] - 176s 226ms/step - loss: 0.5785 - accuracy: 0.8021 - val_loss: 0.9359 - val_accuracy: 0.6900\n",
            "Epoch 17/30\n",
            "782/782 [==============================] - 179s 228ms/step - loss: 0.5405 - accuracy: 0.8148 - val_loss: 0.9513 - val_accuracy: 0.6882\n",
            "Epoch 18/30\n",
            "782/782 [==============================] - 176s 225ms/step - loss: 0.5014 - accuracy: 0.8285 - val_loss: 0.9428 - val_accuracy: 0.6915\n",
            "Epoch 19/30\n",
            "782/782 [==============================] - 178s 228ms/step - loss: 0.4659 - accuracy: 0.8400 - val_loss: 0.9732 - val_accuracy: 0.6909\n",
            "Epoch 20/30\n",
            "782/782 [==============================] - 178s 227ms/step - loss: 0.4307 - accuracy: 0.8538 - val_loss: 0.9430 - val_accuracy: 0.7060\n",
            "Epoch 21/30\n",
            "782/782 [==============================] - 180s 230ms/step - loss: 0.3921 - accuracy: 0.8682 - val_loss: 0.9913 - val_accuracy: 0.6985\n",
            "Epoch 22/30\n",
            "782/782 [==============================] - 176s 225ms/step - loss: 0.3577 - accuracy: 0.8793 - val_loss: 1.0222 - val_accuracy: 0.6990\n",
            "Epoch 23/30\n",
            "782/782 [==============================] - 176s 226ms/step - loss: 0.3209 - accuracy: 0.8927 - val_loss: 1.0461 - val_accuracy: 0.6953\n",
            "Epoch 24/30\n",
            "782/782 [==============================] - 180s 231ms/step - loss: 0.2912 - accuracy: 0.9039 - val_loss: 1.1073 - val_accuracy: 0.6961\n",
            "Epoch 25/30\n",
            "782/782 [==============================] - 178s 227ms/step - loss: 0.2514 - accuracy: 0.9187 - val_loss: 1.1359 - val_accuracy: 0.6932\n",
            "Epoch 26/30\n",
            "782/782 [==============================] - 178s 227ms/step - loss: 0.2272 - accuracy: 0.9256 - val_loss: 1.2153 - val_accuracy: 0.6906\n",
            "Epoch 27/30\n",
            "782/782 [==============================] - 177s 226ms/step - loss: 0.1964 - accuracy: 0.9384 - val_loss: 1.2691 - val_accuracy: 0.6918\n",
            "Epoch 28/30\n",
            "782/782 [==============================] - 180s 231ms/step - loss: 0.1701 - accuracy: 0.9466 - val_loss: 1.2667 - val_accuracy: 0.6947\n",
            "Epoch 29/30\n",
            "782/782 [==============================] - 178s 228ms/step - loss: 0.1448 - accuracy: 0.9559 - val_loss: 1.3719 - val_accuracy: 0.6958\n",
            "Epoch 30/30\n",
            "782/782 [==============================] - 179s 229ms/step - loss: 0.1203 - accuracy: 0.9649 - val_loss: 1.4714 - val_accuracy: 0.6884\n",
            "> 68.840\n"
          ],
          "name": "stdout"
        }
      ]
    },
    {
      "cell_type": "code",
      "metadata": {
        "colab": {
          "base_uri": "https://localhost:8080/"
        },
        "id": "B04-uyImkQZP",
        "outputId": "e89a1001-3027-49c8-eba6-9b6ae9fc3680"
      },
      "source": [
        "print('accuracy: %.3f' % (acc * 100.0))"
      ],
      "execution_count": 14,
      "outputs": [
        {
          "output_type": "stream",
          "text": [
            "accuracy: 68.840\n"
          ],
          "name": "stdout"
        }
      ]
    },
    {
      "cell_type": "code",
      "metadata": {
        "id": "iodiKtmuQqOz",
        "colab": {
          "base_uri": "https://localhost:8080/",
          "height": 163
        },
        "outputId": "6cde8a16-71d1-4722-a9af-554b90f2dcf0"
      },
      "source": [
        "# plot loss\n",
        "plt.subplot(211)\n",
        "plt.title('Cross Entropy Loss')\n",
        "plt.plot(history.history['loss'], color='blue', label='train')\n",
        "plt.plot(history.history['val_loss'], color='green', label='test')\n",
        "plt.legend()\n",
        "plt.show()"
      ],
      "execution_count": 11,
      "outputs": [
        {
          "output_type": "display_data",
          "data": {
            "image/png": "[encoded data removed]",
            "text/plain": [
              "<Figure size 432x288 with 1 Axes>"
            ]
          },
          "metadata": {
            "tags": [],
            "needs_background": "light"
          }
        }
      ]
    },
    {
      "cell_type": "code",
      "metadata": {
        "id": "kjLkXP8eQuVw",
        "colab": {
          "base_uri": "https://localhost:8080/",
          "height": 163
        },
        "outputId": "dc9ce2f1-af7e-4d6d-e0ff-ce4017bedf7e"
      },
      "source": [
        "# plot accuracy\n",
        "plt.subplot(212)\n",
        "plt.title('Classification Accuracy')\n",
        "plt.plot(history.history['accuracy'], color='blue', label='train')\n",
        "plt.plot(history.history['val_accuracy'], color='green', label='test')\n",
        "plt.legend()\n",
        "plt.show()"
      ],
      "execution_count": 12,
      "outputs": [
        {
          "output_type": "display_data",
          "data": {
            "image/png": "[encoded data removed]",
            "text/plain": [
              "<Figure size 432x288 with 1 Axes>"
            ]
          },
          "metadata": {
            "tags": [],
            "needs_background": "light"
          }
        }
      ]
    }
  ]
}