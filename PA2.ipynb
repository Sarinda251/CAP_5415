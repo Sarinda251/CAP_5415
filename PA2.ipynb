{
  "nbformat": 4,
  "nbformat_minor": 0,
  "metadata": {
    "colab": {
      "name": "PA2.ipynb",
      "provenance": [],
      "authorship_tag": "ABX9TyOVIQwJzIXlmmqPYeKKUbm0",
      "include_colab_link": true
    },
    "kernelspec": {
      "name": "python3",
      "display_name": "Python 3"
    }
  },
  "cells": [
    {
      "cell_type": "markdown",
      "metadata": {
        "id": "view-in-github",
        "colab_type": "text"
      },
      "source": [
        "<a href=\"https://colab.research.google.com/github/Sarinda251/CAP_5415/blob/main/PA2.ipynb\" target=\"_parent\"><img src=\"https://colab.research.google.com/assets/colab-badge.svg\" alt=\"Open In Colab\"/></a>"
      ]
    },
    {
      "cell_type": "code",
      "metadata": {
        "id": "YQDGfQjHT64T"
      },
      "source": [
        "from sklearn.datasets import load_digits\n",
        "from math import sqrt\n",
        "\n",
        "digits = load_digits()\n",
        "\n",
        "data = digits['data']\n",
        "labels = digits['target']"
      ],
      "execution_count": 61,
      "outputs": []
    },
    {
      "cell_type": "code",
      "metadata": {
        "id": "N10uDv8fHfOY"
      },
      "source": [
        "def euclidean_distance(row1, row2):\n",
        "\tdistance = 0.0\n",
        "\tfor i in range(len(row1)-1):\n",
        "\t\tdistance += (row1[i] - row2[i])**2\n",
        "\treturn sqrt(distance)"
      ],
      "execution_count": 62,
      "outputs": []
    },
    {
      "cell_type": "markdown",
      "metadata": {
        "id": "mgI4q0K1dkes"
      },
      "source": [
        "set up test and train sets"
      ]
    },
    {
      "cell_type": "code",
      "metadata": {
        "id": "rLhQTj2dUBE7"
      },
      "source": [
        "tally = [0,0,0,0,0,0,0,0,0,0]\n",
        "run = True\n",
        "index = 0\n",
        "testx = []\n",
        "trainx = []\n",
        "testy = []\n",
        "trainy = []\n",
        "while(run):\n",
        "  run = False\n",
        "  if tally[labels[index]] < 10:\n",
        "    tally[labels[index]] += 1\n",
        "    testx.append(data[index])\n",
        "    testy.append(labels[index])\n",
        "  else:\n",
        "    trainx.append(data[index])\n",
        "    trainy.append(labels[index])\n",
        "\n",
        "  index += 1\n",
        "  for i in range(10):\n",
        "    #print(tally[i] != 10)\n",
        "    run = run or tally[i] != 10\n",
        "\n",
        "for i in range(index,len(data)):\n",
        "  trainx.append(data[i])\n",
        "  trainy.append(labels[i])\n"
      ],
      "execution_count": 63,
      "outputs": []
    },
    {
      "cell_type": "markdown",
      "metadata": {
        "id": "n7PAr8gee5Lm"
      },
      "source": [
        "nearest neighbor"
      ]
    },
    {
      "cell_type": "code",
      "metadata": {
        "id": "4UovHW0YdnB8",
        "outputId": "931fa71f-b879-4b78-b617-5bc43ae3168f",
        "colab": {
          "base_uri": "https://localhost:8080/"
        }
      },
      "source": [
        "# Locate the most similar neighbors\n",
        "def get_neighbors(train, test_row, num_neighbors):\n",
        "\tdistances = []\n",
        "\tfor i in range(len(train)):\n",
        "\t\tdist = euclidean_distance(test_row, train[i])\n",
        "\t\tdistances.append((i, dist))\n",
        "\tdistances.sort(key=lambda tup: tup[1])\n",
        "\tneighbors = []\n",
        "\tfor i in range(num_neighbors):\n",
        "\t\tneighbors.append(distances[i][0])\n",
        "\treturn neighbors\n",
        " \n",
        "# Make a classification prediction with neighbors\n",
        "def predict_classification(train, trainy, test_row, num_neighbors):\n",
        "\tneighbors = get_neighbors(train, test_row, num_neighbors)\n",
        "\toutput_values = [trainy[row] for row in neighbors]\n",
        "\tprediction = max(set(output_values), key=output_values.count)\n",
        "\treturn prediction\n",
        "\n",
        "n = 1\n",
        "\n",
        "correct = 0\n",
        "for i in range(100):\n",
        "  predict = predict_classification(trainx, trainy, testx[i], n)\n",
        "  if predict == testy[i]:\n",
        "    correct += 1\n",
        "\n",
        "print(str(correct) + \"%\")"
      ],
      "execution_count": 64,
      "outputs": [
        {
          "output_type": "stream",
          "text": [
            "96%\n"
          ],
          "name": "stdout"
        }
      ]
    },
    {
      "cell_type": "markdown",
      "metadata": {
        "id": "EvdUzALwe8w7"
      },
      "source": [
        "3 nearest neighbors"
      ]
    },
    {
      "cell_type": "code",
      "metadata": {
        "id": "DQBrYAdxfIbR",
        "outputId": "2e25fcd5-4020-41d8-c4a8-be6d60bbb6a3",
        "colab": {
          "base_uri": "https://localhost:8080/"
        }
      },
      "source": [
        "n = 3\n",
        "\n",
        "correct = 0\n",
        "for i in range(100):\n",
        "  predict = predict_classification(trainx, trainy, testx[i], n)\n",
        "  if predict == testy[i]:\n",
        "    correct += 1\n",
        "\n",
        "print(str(correct) + \"%\")"
      ],
      "execution_count": 65,
      "outputs": [
        {
          "output_type": "stream",
          "text": [
            "94%\n"
          ],
          "name": "stdout"
        }
      ]
    },
    {
      "cell_type": "markdown",
      "metadata": {
        "id": "XnW_dhgifAQJ"
      },
      "source": [
        "5 nearest neighbors"
      ]
    },
    {
      "cell_type": "code",
      "metadata": {
        "id": "JXQ0aKw4fKWl",
        "outputId": "dd5731fc-04f6-4720-a854-5b66eaf4b956",
        "colab": {
          "base_uri": "https://localhost:8080/"
        }
      },
      "source": [
        "n = 5\n",
        "\n",
        "correct = 0\n",
        "for i in range(100):\n",
        "  predict = predict_classification(trainx, trainy, testx[i], n)\n",
        "  if predict == testy[i]:\n",
        "    correct += 1\n",
        "\n",
        "print(str(correct) + \"%\")"
      ],
      "execution_count": 66,
      "outputs": [
        {
          "output_type": "stream",
          "text": [
            "94%\n"
          ],
          "name": "stdout"
        }
      ]
    },
    {
      "cell_type": "markdown",
      "metadata": {
        "id": "wbBWe8UsfD-C"
      },
      "source": [
        "7 nearest neighbors"
      ]
    },
    {
      "cell_type": "code",
      "metadata": {
        "id": "Rg0zUublfLU4",
        "outputId": "a9d25106-acb5-476d-9938-1328f34ecb5e",
        "colab": {
          "base_uri": "https://localhost:8080/"
        }
      },
      "source": [
        "n = 7\n",
        "\n",
        "correct = 0\n",
        "for i in range(100):\n",
        "  predict = predict_classification(trainx, trainy, testx[i], n)\n",
        "  if predict == testy[i]:\n",
        "    correct += 1\n",
        "\n",
        "print(str(correct) + \"%\")"
      ],
      "execution_count": 67,
      "outputs": [
        {
          "output_type": "stream",
          "text": [
            "94%\n"
          ],
          "name": "stdout"
        }
      ]
    }
  ]
}