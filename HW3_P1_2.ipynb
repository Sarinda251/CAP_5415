{
  "nbformat": 4,
  "nbformat_minor": 0,
  "metadata": {
    "colab": {
      "name": "HW3_P1_2.ipynb",
      "provenance": [],
      "authorship_tag": "ABX9TyNq1hpubfJNVkPeo5qT14h4",
      "include_colab_link": true
    },
    "kernelspec": {
      "name": "python3",
      "display_name": "Python 3"
    }
  },
  "cells": [
    {
      "cell_type": "markdown",
      "metadata": {
        "id": "view-in-github",
        "colab_type": "text"
      },
      "source": [
        "<a href=\"https://colab.research.google.com/github/Sarinda251/CAP_5415/blob/main/HW3_P1_2.ipynb\" target=\"_parent\"><img src=\"https://colab.research.google.com/assets/colab-badge.svg\" alt=\"Open In Colab\"/></a>"
      ]
    },
    {
      "cell_type": "code",
      "metadata": {
        "id": "w__OYm4Vx7aE"
      },
      "source": [
        "import matplotlib.pyplot as plt\n",
        "from keras.datasets import cifar10\n",
        "from keras.utils import to_categorical\n",
        "from keras.models import Sequential\n",
        "from keras.layers import Conv2D\n",
        "from keras.layers import MaxPooling2D\n",
        "from keras.layers import Dense\n",
        "from keras.layers import Flatten\n",
        "from keras.optimizers import SGD"
      ],
      "execution_count": 1,
      "outputs": []
    },
    {
      "cell_type": "code",
      "metadata": {
        "id": "CQutbWWSx95y"
      },
      "source": [
        "# load dataset\n",
        "(trainX, trainY), (testX, testY) = cifar10.load_data()\n",
        "# one hot encode target values\n",
        "trainY = to_categorical(trainY)\n",
        "testY = to_categorical(testY)"
      ],
      "execution_count": 2,
      "outputs": []
    },
    {
      "cell_type": "code",
      "metadata": {
        "id": "SPZJT6D8yLDI"
      },
      "source": [
        "# scale pixels\n",
        "# convert from integers to floats\n",
        "train_norm = trainX.astype('float32')\n",
        "test_norm = testX.astype('float32')\n",
        "# normalize to range 0-1\n",
        "trainX = train_norm / 255.0\n",
        "testX = test_norm / 255.0\n",
        "# return normalized images"
      ],
      "execution_count": 3,
      "outputs": []
    },
    {
      "cell_type": "code",
      "metadata": {
        "id": "rQhDhfryyjy-"
      },
      "source": [
        "# create model\n",
        "model = Sequential()\n",
        "model.add(Conv2D(32, (3, 3), activation='relu', kernel_initializer='he_uniform', padding='same', input_shape=(32, 32, 3)))\n",
        "model.add(Conv2D(32, (3, 3), activation='relu', kernel_initializer='he_uniform', padding='same'))\n",
        "model.add(MaxPooling2D((2, 2)))\n",
        "model.add(Conv2D(64, (3, 3), activation='relu', kernel_initializer='he_uniform', padding='same'))\n",
        "model.add(Conv2D(64, (3, 3), activation='relu', kernel_initializer='he_uniform', padding='same'))\n",
        "model.add(MaxPooling2D((2, 2)))\n",
        "model.add(Flatten())\n",
        "model.add(Dense(128, activation='relu', kernel_initializer='he_uniform'))\n",
        "model.add(Dense(10, activation='softmax'))\n",
        "# compile model\n",
        "opt = SGD(lr=0.001, momentum=0.9)\n",
        "model.compile(optimizer=opt, loss='categorical_crossentropy', metrics=['accuracy'])"
      ],
      "execution_count": 4,
      "outputs": []
    },
    {
      "cell_type": "code",
      "metadata": {
        "colab": {
          "base_uri": "https://localhost:8080/"
        },
        "id": "6260M1r8y3FI",
        "outputId": "3f59544c-51b6-4ce8-8dd6-d8df3ff5a609"
      },
      "source": [
        "# fit model\n",
        "history1 = model.fit(trainX, trainY, epochs=30, batch_size=64, validation_data=(testX, testY))\n",
        "# evaluate model\n",
        "_, acc = model.evaluate(testX, testY, verbose=0)\n",
        "print('> %.3f' % (acc * 100.0))"
      ],
      "execution_count": 5,
      "outputs": [
        {
          "output_type": "stream",
          "text": [
            "Epoch 1/30\n",
            "782/782 [==============================] - 259s 331ms/step - loss: 1.7268 - accuracy: 0.3824 - val_loss: 1.4874 - val_accuracy: 0.4723\n",
            "Epoch 2/30\n",
            "782/782 [==============================] - 263s 336ms/step - loss: 1.3848 - accuracy: 0.5040 - val_loss: 1.2568 - val_accuracy: 0.5594\n",
            "Epoch 3/30\n",
            "782/782 [==============================] - 258s 330ms/step - loss: 1.2153 - accuracy: 0.5662 - val_loss: 1.1693 - val_accuracy: 0.5858\n",
            "Epoch 4/30\n",
            "782/782 [==============================] - 259s 331ms/step - loss: 1.0875 - accuracy: 0.6174 - val_loss: 1.0641 - val_accuracy: 0.6246\n",
            "Epoch 5/30\n",
            "782/782 [==============================] - 259s 331ms/step - loss: 0.9972 - accuracy: 0.6514 - val_loss: 1.0496 - val_accuracy: 0.6322\n",
            "Epoch 6/30\n",
            "782/782 [==============================] - 259s 331ms/step - loss: 0.9222 - accuracy: 0.6780 - val_loss: 0.9822 - val_accuracy: 0.6589\n",
            "Epoch 7/30\n",
            "782/782 [==============================] - 260s 332ms/step - loss: 0.8591 - accuracy: 0.7008 - val_loss: 0.9494 - val_accuracy: 0.6722\n",
            "Epoch 8/30\n",
            "782/782 [==============================] - 264s 337ms/step - loss: 0.8014 - accuracy: 0.7226 - val_loss: 0.9869 - val_accuracy: 0.6629\n",
            "Epoch 9/30\n",
            "782/782 [==============================] - 258s 330ms/step - loss: 0.7547 - accuracy: 0.7392 - val_loss: 0.9579 - val_accuracy: 0.6722\n",
            "Epoch 10/30\n",
            "782/782 [==============================] - 268s 343ms/step - loss: 0.7062 - accuracy: 0.7568 - val_loss: 0.8970 - val_accuracy: 0.6965\n",
            "Epoch 11/30\n",
            "782/782 [==============================] - 263s 337ms/step - loss: 0.6568 - accuracy: 0.7729 - val_loss: 0.8697 - val_accuracy: 0.7035\n",
            "Epoch 12/30\n",
            "782/782 [==============================] - 260s 333ms/step - loss: 0.6111 - accuracy: 0.7881 - val_loss: 0.8785 - val_accuracy: 0.7051\n",
            "Epoch 13/30\n",
            "782/782 [==============================] - 263s 336ms/step - loss: 0.5639 - accuracy: 0.8066 - val_loss: 0.8738 - val_accuracy: 0.7069\n",
            "Epoch 14/30\n",
            "782/782 [==============================] - 263s 336ms/step - loss: 0.5258 - accuracy: 0.8168 - val_loss: 0.8889 - val_accuracy: 0.7130\n",
            "Epoch 15/30\n",
            "782/782 [==============================] - 264s 337ms/step - loss: 0.4801 - accuracy: 0.8343 - val_loss: 0.9277 - val_accuracy: 0.7074\n",
            "Epoch 16/30\n",
            "782/782 [==============================] - 264s 337ms/step - loss: 0.4379 - accuracy: 0.8493 - val_loss: 0.9841 - val_accuracy: 0.6989\n",
            "Epoch 17/30\n",
            "782/782 [==============================] - 266s 340ms/step - loss: 0.3978 - accuracy: 0.8620 - val_loss: 0.9121 - val_accuracy: 0.7182\n",
            "Epoch 18/30\n",
            "782/782 [==============================] - 265s 339ms/step - loss: 0.3544 - accuracy: 0.8795 - val_loss: 0.9760 - val_accuracy: 0.7100\n",
            "Epoch 19/30\n",
            "782/782 [==============================] - 261s 334ms/step - loss: 0.3137 - accuracy: 0.8930 - val_loss: 1.0242 - val_accuracy: 0.7097\n",
            "Epoch 20/30\n",
            "782/782 [==============================] - 260s 332ms/step - loss: 0.2769 - accuracy: 0.9053 - val_loss: 1.0560 - val_accuracy: 0.7129\n",
            "Epoch 21/30\n",
            "782/782 [==============================] - 264s 337ms/step - loss: 0.2344 - accuracy: 0.9215 - val_loss: 1.1577 - val_accuracy: 0.7073\n",
            "Epoch 22/30\n",
            "782/782 [==============================] - 265s 339ms/step - loss: 0.1974 - accuracy: 0.9346 - val_loss: 1.2659 - val_accuracy: 0.7030\n",
            "Epoch 23/30\n",
            "782/782 [==============================] - 262s 336ms/step - loss: 0.1640 - accuracy: 0.9456 - val_loss: 1.3336 - val_accuracy: 0.6964\n",
            "Epoch 24/30\n",
            "782/782 [==============================] - 261s 334ms/step - loss: 0.1397 - accuracy: 0.9544 - val_loss: 1.3517 - val_accuracy: 0.7103\n",
            "Epoch 25/30\n",
            "782/782 [==============================] - 262s 335ms/step - loss: 0.1123 - accuracy: 0.9652 - val_loss: 1.4768 - val_accuracy: 0.7043\n",
            "Epoch 26/30\n",
            "782/782 [==============================] - 263s 337ms/step - loss: 0.0869 - accuracy: 0.9739 - val_loss: 1.5211 - val_accuracy: 0.7058\n",
            "Epoch 27/30\n",
            "782/782 [==============================] - 265s 339ms/step - loss: 0.0732 - accuracy: 0.9782 - val_loss: 1.6129 - val_accuracy: 0.7086\n",
            "Epoch 28/30\n",
            "782/782 [==============================] - 261s 334ms/step - loss: 0.0574 - accuracy: 0.9841 - val_loss: 1.7053 - val_accuracy: 0.7034\n",
            "Epoch 29/30\n",
            "782/782 [==============================] - 267s 341ms/step - loss: 0.0426 - accuracy: 0.9890 - val_loss: 1.7802 - val_accuracy: 0.7101\n",
            "Epoch 30/30\n",
            "782/782 [==============================] - 263s 336ms/step - loss: 0.0249 - accuracy: 0.9949 - val_loss: 1.8953 - val_accuracy: 0.7107\n",
            "> 71.070\n"
          ],
          "name": "stdout"
        }
      ]
    },
    {
      "cell_type": "code",
      "metadata": {
        "colab": {
          "base_uri": "https://localhost:8080/"
        },
        "id": "qqrG5rqlmhV0",
        "outputId": "75d2b60d-44b9-46b6-fe23-286904ea0371"
      },
      "source": [
        "print('accuracy: %.3f' % (acc * 100.0))"
      ],
      "execution_count": 9,
      "outputs": [
        {
          "output_type": "stream",
          "text": [
            "accuracy: 71.070\n"
          ],
          "name": "stdout"
        }
      ]
    },
    {
      "cell_type": "code",
      "metadata": {
        "colab": {
          "base_uri": "https://localhost:8080/",
          "height": 163
        },
        "id": "RzoNhbV8y8Oo",
        "outputId": "147b232f-7a93-46f5-c2fb-ee6b41847976"
      },
      "source": [
        "# plot loss\n",
        "plt.subplot(211)\n",
        "plt.title('Cross Entropy Loss')\n",
        "plt.plot(history1.history['loss'], color='blue', label='train')\n",
        "plt.plot(history1.history['val_loss'], color='green', label='test')\n",
        "plt.show()"
      ],
      "execution_count": 6,
      "outputs": [
        {
          "output_type": "display_data",
          "data": {
            "image/png": "[encoded data removed]",
            "text/plain": [
              "<Figure size 432x288 with 1 Axes>"
            ]
          },
          "metadata": {
            "tags": [],
            "needs_background": "light"
          }
        }
      ]
    },
    {
      "cell_type": "code",
      "metadata": {
        "colab": {
          "base_uri": "https://localhost:8080/",
          "height": 163
        },
        "id": "D_Ucb-s5Fhot",
        "outputId": "4912f3dc-5048-40e6-d179-d0e61d31cc49"
      },
      "source": [
        "# plot accuracy\n",
        "plt.subplot(212)\n",
        "plt.title('Classification Accuracy')\n",
        "plt.plot(history1.history['accuracy'], color='blue', label='train')\n",
        "plt.plot(history1.history['val_accuracy'], color='green', label='test')\n",
        "plt.legend()\n",
        "plt.show()"
      ],
      "execution_count": 7,
      "outputs": [
        {
          "output_type": "display_data",
          "data": {
            "image/png": "[encoded data removed]",
            "text/plain": [
              "<Figure size 432x288 with 1 Axes>"
            ]
          },
          "metadata": {
            "tags": [],
            "needs_background": "light"
          }
        }
      ]
    }
  ]
}